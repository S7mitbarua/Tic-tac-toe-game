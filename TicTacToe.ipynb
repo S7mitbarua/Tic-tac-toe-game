{
  "nbformat": 4,
  "nbformat_minor": 0,
  "metadata": {
    "colab": {
      "provenance": [],
      "authorship_tag": "ABX9TyMuKMcWqhCYKJCO8I+sE4XS",
      "include_colab_link": true
    },
    "kernelspec": {
      "name": "python3",
      "display_name": "Python 3"
    },
    "language_info": {
      "name": "python"
    }
  },
  "cells": [
    {
      "cell_type": "markdown",
      "metadata": {
        "id": "view-in-github",
        "colab_type": "text"
      },
      "source": [
        "<a href=\"https://colab.research.google.com/github/S7mitbarua/Tic-tac-toe-game/blob/main/TicTacToe.ipynb\" target=\"_parent\"><img src=\"https://colab.research.google.com/assets/colab-badge.svg\" alt=\"Open In Colab\"/></a>"
      ]
    },
    {
      "cell_type": "code",
      "source": [
        "#1. Import libraries and create the board\n",
        "#First, we need to import the required libraries and create the initial game board.\n",
        "def print_board(board):\n",
        "    for row in board:\n",
        "        print(\" | \".join(row))\n",
        "        print(\"-\" * 9)\n",
        "\n",
        "def initialize_board():\n",
        "    return [[' ' for _ in range(3)] for _ in range(3)]\n",
        "\n",
        "board = initialize_board()\n",
        "print_board(board)\n"
      ],
      "metadata": {
        "colab": {
          "base_uri": "https://localhost:8080/"
        },
        "id": "nBvqXa4E7hd9",
        "outputId": "e67ae339-62f3-4372-af3c-36054e388d42"
      },
      "execution_count": 5,
      "outputs": [
        {
          "output_type": "stream",
          "name": "stdout",
          "text": [
            "  |   |  \n",
            "---------\n",
            "  |   |  \n",
            "---------\n",
            "  |   |  \n",
            "---------\n"
          ]
        }
      ]
    },
    {
      "cell_type": "code",
      "source": [
        "#2. Define functions for player moves. We will define functions to handle the players' moves and update the board accordingly.\n",
        "def is_valid_move(row, col, board):\n",
        "    return 0 <= row < 3 and 0 <= col < 3 and board[row][col] == ' '\n",
        "\n",
        "def make_move(player, row, col, board):\n",
        "    if is_valid_move(row, col, board):\n",
        "        board[row][col] = player\n",
        "        return True\n",
        "    return False"
      ],
      "metadata": {
        "id": "afQDVeRi8NoP"
      },
      "execution_count": 6,
      "outputs": []
    },
    {
      "cell_type": "code",
      "source": [
        "#3. Implement the game loop. Now, we'll create a loop to run the game until someone wins or it's a draw.\n",
        "def check_winner(board):\n",
        "    for i in range(3):\n",
        "        if board[i][0] == board[i][1] == board[i][2] != ' ':\n",
        "            return board[i][0]\n",
        "        if board[0][i] == board[1][i] == board[2][i] != ' ':\n",
        "            return board[0][i]\n",
        "    if board[0][0] == board[1][1] == board[2][2] != ' ':\n",
        "        return board[0][0]\n",
        "    if board[0][2] == board[1][1] == board[2][0] != ' ':\n",
        "        return board[0][2]\n",
        "    return None\n",
        "\n",
        "def is_board_full(board):\n",
        "    for row in board:\n",
        "        if ' ' in row:\n",
        "            return False\n",
        "    return True\n",
        "\n",
        "def play_game():\n",
        "    player = 'X'\n",
        "    while True:\n",
        "        print(f\"Player {player}'s turn.\")\n",
        "        row = int(input(\"Enter row (0, 1, or 2): \"))\n",
        "        col = int(input(\"Enter col (0, 1, or 2): \"))\n",
        "\n",
        "        if make_move(player, row, col, board):\n",
        "            print_board(board)\n",
        "            winner = check_winner(board)\n",
        "            if winner:\n",
        "                print(f\"Player {winner} wins!\")\n",
        "                break\n",
        "            elif is_board_full(board):\n",
        "                print(\"It's a draw!\")\n",
        "                break\n",
        "            player = 'X' if player == 'O' else 'O'\n",
        "        else:\n",
        "            print(\"Invalid move. Try again.\")\n",
        "\n",
        "play_game()"
      ],
      "metadata": {
        "colab": {
          "base_uri": "https://localhost:8080/"
        },
        "id": "v_s_uJ8I8ete",
        "outputId": "67c642cc-fa7c-479f-c9ac-64ee10f55711"
      },
      "execution_count": null,
      "outputs": [
        {
          "output_type": "stream",
          "name": "stdout",
          "text": [
            "Player X's turn.\n",
            "Enter row (0, 1, or 2): 2\n",
            "Enter col (0, 1, or 2): 0\n",
            "  |   |  \n",
            "---------\n",
            "  |   |  \n",
            "---------\n",
            "X |   |  \n",
            "---------\n",
            "Player O's turn.\n",
            "Enter row (0, 1, or 2): 0\n",
            "Enter col (0, 1, or 2): 1\n",
            "  | O |  \n",
            "---------\n",
            "  |   |  \n",
            "---------\n",
            "X |   |  \n",
            "---------\n",
            "Player X's turn.\n",
            "Enter row (0, 1, or 2): 2\n",
            "Enter col (0, 1, or 2): 2\n",
            "  | O |  \n",
            "---------\n",
            "  |   |  \n",
            "---------\n",
            "X |   | X\n",
            "---------\n",
            "Player O's turn.\n",
            "Enter row (0, 1, or 2): 2\n",
            "Enter col (0, 1, or 2): 2\n",
            "Invalid move. Try again.\n",
            "Player O's turn.\n",
            "Enter row (0, 1, or 2): 0\n",
            "Enter col (0, 1, or 2): 1\n",
            "Invalid move. Try again.\n",
            "Player O's turn.\n",
            "Enter row (0, 1, or 2): 1\n",
            "Enter col (0, 1, or 2): 1\n",
            "  | O |  \n",
            "---------\n",
            "  | O |  \n",
            "---------\n",
            "X |   | X\n",
            "---------\n",
            "Player X's turn.\n",
            "Enter row (0, 1, or 2): 1\n",
            "Enter col (0, 1, or 2): 1\n",
            "Invalid move. Try again.\n",
            "Player X's turn.\n",
            "Enter row (0, 1, or 2): 2\n",
            "Enter col (0, 1, or 2): 2\n",
            "Invalid move. Try again.\n",
            "Player X's turn.\n",
            "Enter row (0, 1, or 2): 1\n",
            "Enter col (0, 1, or 2): 1\n",
            "Invalid move. Try again.\n",
            "Player X's turn.\n",
            "Enter row (0, 1, or 2): 2\n",
            "Enter col (0, 1, or 2): 2\n",
            "Invalid move. Try again.\n",
            "Player X's turn.\n"
          ]
        }
      ]
    }
  ]
}